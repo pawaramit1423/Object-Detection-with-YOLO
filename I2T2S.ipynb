{
 "cells": [
  {
   "cell_type": "markdown",
   "id": "a3665cbc",
   "metadata": {},
   "source": [
    "\n",
    "<img src=\"./Images/hackathon1.png\" alt=\"HackThon\" height=\"850\" width=\"850\"/>\n",
    "\n",
    "## *Test case* : _Image to Text and Text to speech conversion_\n",
    "\n",
    "![A robot identifying fruit](./Images/ocr.jpg)"
   ]
  },
  {
   "cell_type": "code",
   "execution_count": null,
   "id": "fb00ba1c",
   "metadata": {},
   "outputs": [],
   "source": [
    "#pip install pytesseract\n",
    "#pip install googletrans"
   ]
  },
  {
   "cell_type": "code",
   "execution_count": null,
   "id": "2ae5a682",
   "metadata": {},
   "outputs": [],
   "source": [
    "from gtts import gTTS\n",
    "import pytesseract as tess\n",
    "from PIL import Image\n",
    "import matplotlib.pyplot as plt\n",
    "from googletrans import Translator\n",
    "import os\n"
   ]
  },
  {
   "cell_type": "code",
   "execution_count": null,
   "id": "ddc02db0",
   "metadata": {},
   "outputs": [],
   "source": [
    "tess.pytesseract.tesseract_cmd = r'C:\\Program Files\\Tesseract-OCR\\tesseract.exe'"
   ]
  },
  {
   "cell_type": "code",
   "execution_count": null,
   "id": "04e4cce1",
   "metadata": {},
   "outputs": [],
   "source": [
    "img = Image.open('I2T2S_2.png')\n",
    "test = tess.image_to_string(img)\n"
   ]
  },
  {
   "cell_type": "code",
   "execution_count": null,
   "id": "e8062078",
   "metadata": {},
   "outputs": [],
   "source": [
    "plt.imshow(img)"
   ]
  },
  {
   "cell_type": "code",
   "execution_count": null,
   "id": "0cc56581",
   "metadata": {},
   "outputs": [],
   "source": [
    "test\n"
   ]
  },
  {
   "cell_type": "code",
   "execution_count": null,
   "id": "18a2ae22",
   "metadata": {},
   "outputs": [],
   "source": [
    "myobj = gTTS(text=test, lang='en', slow=False)\n",
    "myobj.save('output1.mp3')\n",
    "#os.system('mpg321 output1.mp3')\n",
    "os.system('output1.mp3')\n",
    "print(\"------ Done -------\")"
   ]
  },
  {
   "cell_type": "code",
   "execution_count": null,
   "id": "a423cb55",
   "metadata": {},
   "outputs": [],
   "source": [
    "myobj = gTTS(text=test, lang='en', slow=False)\n",
    "myobj.save('output1.mp3')\n",
    "#os.system('mpg321 output1.mp3')\n",
    "os.system('output1.mp3')\n",
    "print(\"------ Done -------\")"
   ]
  },
  {
   "cell_type": "code",
   "execution_count": null,
   "id": "730a4137",
   "metadata": {},
   "outputs": [],
   "source": [
    "with open('abc.txt',mode ='w') as file:     \n",
    "      \n",
    "                 file.write(test)\n",
    "                 print(test)\n",
    "                   "
   ]
  },
  {
   "cell_type": "code",
   "execution_count": null,
   "id": "203fad7d",
   "metadata": {
    "scrolled": true
   },
   "outputs": [],
   "source": []
  },
  {
   "cell_type": "code",
   "execution_count": null,
   "id": "2c44ea9f",
   "metadata": {},
   "outputs": [],
   "source": []
  },
  {
   "cell_type": "code",
   "execution_count": null,
   "id": "90acf29c",
   "metadata": {},
   "outputs": [],
   "source": []
  },
  {
   "cell_type": "code",
   "execution_count": null,
   "id": "6a19e31c",
   "metadata": {},
   "outputs": [],
   "source": []
  },
  {
   "cell_type": "code",
   "execution_count": null,
   "id": "04610b6a",
   "metadata": {},
   "outputs": [],
   "source": []
  },
  {
   "cell_type": "code",
   "execution_count": null,
   "id": "72d21f36",
   "metadata": {},
   "outputs": [],
   "source": []
  },
  {
   "cell_type": "code",
   "execution_count": null,
   "id": "df8dd2d6",
   "metadata": {},
   "outputs": [],
   "source": []
  },
  {
   "cell_type": "code",
   "execution_count": null,
   "id": "c63bac7b",
   "metadata": {},
   "outputs": [],
   "source": []
  }
 ],
 "metadata": {
  "kernelspec": {
   "display_name": "Python 3 (ipykernel)",
   "language": "python",
   "name": "python3"
  },
  "language_info": {
   "codemirror_mode": {
    "name": "ipython",
    "version": 3
   },
   "file_extension": ".py",
   "mimetype": "text/x-python",
   "name": "python",
   "nbconvert_exporter": "python",
   "pygments_lexer": "ipython3",
   "version": "3.9.7"
  }
 },
 "nbformat": 4,
 "nbformat_minor": 5
}
